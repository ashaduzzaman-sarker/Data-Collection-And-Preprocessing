{
  "nbformat": 4,
  "nbformat_minor": 0,
  "metadata": {
    "colab": {
      "provenance": [],
      "gpuType": "T4"
    },
    "kernelspec": {
      "name": "python3",
      "display_name": "Python 3"
    },
    "language_info": {
      "name": "python"
    },
    "accelerator": "GPU"
  },
  "cells": [
    {
      "cell_type": "code",
      "source": [
        "! pip install rarfile"
      ],
      "metadata": {
        "colab": {
          "base_uri": "https://localhost:8080/"
        },
        "id": "x1HRfX1n1b2R",
        "outputId": "d4b3edfd-bc9a-40bc-9c80-353d7740832d"
      },
      "execution_count": 1,
      "outputs": [
        {
          "output_type": "stream",
          "name": "stdout",
          "text": [
            "Requirement already satisfied: rarfile in /usr/local/lib/python3.10/dist-packages (4.2)\n"
          ]
        }
      ]
    },
    {
      "cell_type": "code",
      "source": [
        "import os\n",
        "import pandas as pd\n",
        "import glob\n",
        "import rarfile\n",
        "import openpyxl\n",
        "import zipfile\n",
        "from datetime import datetime"
      ],
      "metadata": {
        "id": "kauCloif0j7R"
      },
      "execution_count": 2,
      "outputs": []
    },
    {
      "cell_type": "code",
      "source": [
        "# Extract RAR file\n",
        "rar_file_path = 'pgcb.rar'  # Define rar file path\n",
        "\n",
        "# Extract the contents of the rar file\n",
        "extracted_files_dir = 'extracted_files'\n",
        "with rarfile.RarFile(rar_file_path, 'r') as rar_ref:\n",
        "    rar_ref.extractall(extracted_files_dir)  # Extract all files into a folder"
      ],
      "metadata": {
        "id": "H39d8Oh2NVo2"
      },
      "execution_count": 8,
      "outputs": []
    },
    {
      "cell_type": "code",
      "source": [
        "# # Define your zip file path\n",
        "# zip_file_path = 'path_to_your_zip_file.zip'  # Replace with your zip file path\n",
        "\n",
        "# # Extract the contents of the zip file\n",
        "# extracted_files_dir = 'extracted_files'\n",
        "# with zipfile.ZipFile(zip_file_path, 'r') as zip_ref:\n",
        "#     zip_ref.extractall(extracted_files_dir)  # Extract all files into a folder"
      ],
      "metadata": {
        "id": "TazxCeq7L5IY"
      },
      "execution_count": null,
      "outputs": []
    },
    {
      "cell_type": "code",
      "source": [
        "# List all xlsm files extracted\n",
        "xlsm_files = [file for file in os.listdir(extracted_files_dir) if file.endswith('.xlsm')]\n",
        "\n",
        "# Initialize a list to store extracted data from all files\n",
        "all_data = []\n",
        "\n",
        "# Process each xlsm file\n",
        "for xlsm_file in xlsm_files:\n",
        "    file_path = os.path.join(extracted_files_dir, xlsm_file)\n",
        "\n",
        "    # Load the xlsm file\n",
        "    workbook = openpyxl.load_workbook(file_path, read_only=True)\n",
        "\n",
        "    # Assuming the data is in a specific sheet, replace 'P3' with your sheet name\n",
        "    sheet = workbook['P3']\n",
        "\n",
        "    # Initialize variables for storing found data\n",
        "    sub_station = None\n",
        "    load_mw = None\n",
        "    hour = None\n",
        "    date = None\n",
        "\n",
        "    # Search for 'Bagerhat' and 'Date:'\n",
        "    found_bagerhat = False\n",
        "    for row in sheet.iter_rows():\n",
        "        for cell in row:\n",
        "            if cell.value == 'Bagerhat':\n",
        "                found_bagerhat = True\n",
        "                sub_station = sheet.cell(row=cell.row, column=cell.column).value\n",
        "                load_mw = sheet.cell(row=cell.row, column=cell.column + 1).value\n",
        "                hour = sheet.cell(row=cell.row, column=cell.column + 2).value\n",
        "                break\n",
        "            elif cell.value == 'Date:':\n",
        "                date = sheet.cell(row=cell.row, column=cell.column + 1).value\n",
        "\n",
        "        if found_bagerhat and date:\n",
        "            # Extract date and time parts\n",
        "            date_part = date.strftime('%d-%m-%Y')  # Format date as '14-02-2020'\n",
        "            hour_value = hour.strftime('%H:%M:%S')  # Format hour as '12:00:00'\n",
        "\n",
        "            # Combine date and hour into a datetime object\n",
        "            combined_datetime = datetime.strptime(f'{date_part} {hour_value}', '%d-%m-%Y %H:%M:%S')\n",
        "\n",
        "            # Append the data to all_data\n",
        "            all_data.append([combined_datetime, sub_station, load_mw, hour])\n",
        "            break\n",
        "\n",
        "    # Close the workbook\n",
        "    workbook.close()"
      ],
      "metadata": {
        "id": "WXXfj-oVL-IG"
      },
      "execution_count": 10,
      "outputs": []
    },
    {
      "cell_type": "code",
      "source": [
        "# Sort all_data by the first column (datetime)\n",
        "all_data.sort(key=lambda x: x[0])\n",
        "\n",
        "# Create a final table with all extracted data\n",
        "final_table = [['DateTime', 'Sub-station', 'Load (MW)']]\n",
        "final_table.extend([[row[0], row[1], row[2]] for row in all_data])\n",
        "\n",
        "# Print or process final_table as needed\n",
        "print(final_table)"
      ],
      "metadata": {
        "colab": {
          "base_uri": "https://localhost:8080/"
        },
        "id": "vTUEbA8xMKDi",
        "outputId": "9ba726ca-866a-4fe4-853c-537cc2d9ebdc"
      },
      "execution_count": 11,
      "outputs": [
        {
          "output_type": "stream",
          "name": "stdout",
          "text": [
            "[['DateTime', 'Sub-station', 'Load (MW)'], [datetime.datetime(2020, 2, 14, 19, 0), 'Bagerhat', 62], [datetime.datetime(2020, 3, 15, 19, 30), 'Bagerhat', 75], [datetime.datetime(2020, 3, 16, 19, 30), 'Bagerhat', 74]]\n"
          ]
        }
      ]
    },
    {
      "cell_type": "code",
      "source": [
        "# Save the final_table to an Excel file using openpyxl\n",
        "from openpyxl import Workbook\n",
        "\n",
        "wb = Workbook()\n",
        "ws = wb.active\n",
        "\n",
        "for row in final_table:\n",
        "    ws.append(row)\n",
        "\n",
        "output_excel_file = 'output.xlsx'\n",
        "wb.save(output_excel_file)"
      ],
      "metadata": {
        "id": "3SVj3hfCISHo"
      },
      "execution_count": 12,
      "outputs": []
    },
    {
      "cell_type": "code",
      "source": [
        "# Clean up: remove the extracted files folder if desired\n",
        "import shutil\n",
        "shutil.rmtree(extracted_files_dir)\n",
        "\n",
        "print(f\"Data extracted and saved to '{output_excel_file}'.\")"
      ],
      "metadata": {
        "colab": {
          "base_uri": "https://localhost:8080/"
        },
        "id": "ckbcxc8QMQix",
        "outputId": "1f8a1c17-b276-4c09-c52c-9ddc01f591a7"
      },
      "execution_count": 13,
      "outputs": [
        {
          "output_type": "stream",
          "name": "stdout",
          "text": [
            "Data extracted and saved to 'output.xlsx'.\n"
          ]
        }
      ]
    }
  ]
}